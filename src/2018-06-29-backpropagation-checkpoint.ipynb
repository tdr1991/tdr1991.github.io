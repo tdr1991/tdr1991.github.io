{
 "cells": [
  {
   "cell_type": "markdown",
   "metadata": {},
   "source": [
    "# 反向传播算法（backpropagation）\n",
    "此算法是一个有效计算梯度的方法，C表示损失函数，常见的是交叉熵\n",
    "$$L(\\theta)=\\sum_{n=1}^N C^n(\\theta)$$\n",
    "$$\\Longrightarrow  \\frac{\\partial L(\\theta)}{\\partial w}=\\sum_{n=1}^N \\frac{\\partial C^n(\\theta)}{\\partial w}$$\n",
    "假设 $z=x_1 w_1+x_2 w_2 +b$，激活函数为$\\sigma$，那么$z$经过激活函数输出$a，a=\\sigma (z)$  \n",
    "那么 $$\\frac{\\partial C}{\\partial w}=\\frac{\\partial C}{\\partial z}\\frac{\\partial z}{\\partial w}$$\n",
    "正向计算：  \n",
    "$$\\frac{\\partial z}{\\partial w_1}=x_1$$\n",
    "$$\\frac{\\partial z}{\\partial w_2}=x_2$$\n",
    "反向计算：\n",
    "$$\\frac{\\partial a}{\\partial z}=\\sigma'(z)$$\n",
    "假设第一层输出 $z'=a w_3+..., z''=a w_4+...$  \n",
    "$$\\frac{\\partial C}{\\partial z}=\\frac{\\partial C}{\\partial a}\\frac{\\partial a}{\\partial z}$$\n",
    "$$\\frac{\\partial C}{\\partial a}=\\frac{\\partial C}{\\partial z'}\\frac{\\partial z'}{\\partial a}+\\frac{\\partial C}{\\partial z''}\\frac{\\partial z''}{\\partial a}$$\n",
    "$$\\frac{\\partial z'}{\\partial a}=w_3, \\frac{\\partial z''}{\\partial a}=w_4$$\n",
    "$$\\frac{\\partial C}{\\partial z}=\\sigma'(z)[w_3 \\frac{\\partial C}{\\partial z'}+w_4\\frac{\\partial C}{\\partial z''}]$$\n",
    "![](/assets/images/dl/bp.jpg)"
   ]
  },
  {
   "cell_type": "code",
   "execution_count": null,
   "metadata": {
    "collapsed": true
   },
   "outputs": [],
   "source": []
  }
 ],
 "metadata": {
  "kernelspec": {
   "display_name": "Python 3",
   "language": "python",
   "name": "python3"
  },
  "language_info": {
   "codemirror_mode": {
    "name": "ipython",
    "version": 3
   },
   "file_extension": ".py",
   "mimetype": "text/x-python",
   "name": "python",
   "nbconvert_exporter": "python",
   "pygments_lexer": "ipython3",
   "version": "3.6.1"
  },
  "toc": {
   "colors": {
    "hover_highlight": "#DAA520",
    "navigate_num": "#000000",
    "navigate_text": "#333333",
    "running_highlight": "#FF0000",
    "selected_highlight": "#FFD700",
    "sidebar_border": "#EEEEEE",
    "wrapper_background": "#FFFFFF"
   },
   "moveMenuLeft": true,
   "nav_menu": {
    "height": "30px",
    "width": "252px"
   },
   "navigate_menu": true,
   "number_sections": true,
   "sideBar": true,
   "threshold": 4,
   "toc_cell": false,
   "toc_section_display": "block",
   "toc_window_display": false,
   "widenNotebook": false
  }
 },
 "nbformat": 4,
 "nbformat_minor": 2
}
