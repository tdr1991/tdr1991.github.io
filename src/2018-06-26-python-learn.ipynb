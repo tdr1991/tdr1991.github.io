{
 "cells": [
  {
   "cell_type": "markdown",
   "metadata": {},
   "source": [
    "## 正则表达式\n",
    "要做更精确地匹配，可以用[]表示范围，比如：\n",
    "\n",
    "* [0-9a-zA-Z\\_]可以匹配一个数字、字母或者下划线；\n",
    "\n",
    "* [0-9a-zA-Z\\_]+可以匹配至少由一个数字、字母或者下划线组成的字符串，比如'a100'，'0_Z'，'Py3000'等等；\n",
    "\n",
    "* [a-zA-Z\\_][0-9a-zA-Z\\_]*可以匹配由字母或下划线开头，后接任意个由一个数字、字母或者下划线组成的字符串，也就是Python合法的变量；\n",
    "\n",
    "* [a-zA-Z\\_][0-9a-zA-Z\\_]{0, 19}更精确地限制了变量的长度是1-20个字符（前面1个字符+后面最多19个字符）。\n",
    "\n",
    "^表示行的开头，^\\d表示必须以数字开头。 \n",
    "\n",
    "\\$表示行的结束，\\d\\$表示必须以数字结束。"
   ]
  },
  {
   "cell_type": "markdown",
   "metadata": {
    "collapsed": true
   },
   "source": [
    "## 随机数"
   ]
  },
  {
   "cell_type": "code",
   "execution_count": 2,
   "metadata": {},
   "outputs": [],
   "source": [
    "import numpy as np\n",
    "from numpy.random import random"
   ]
  },
  {
   "cell_type": "code",
   "execution_count": 3,
   "metadata": {},
   "outputs": [
    {
     "name": "stdout",
     "output_type": "stream",
     "text": [
      "not use seed first random numbers:  [0.52151343 0.60441578 0.75231091 0.87824935 0.92210191]\n"
     ]
    }
   ],
   "source": [
    "#not use seed\n",
    "a = random(5)\n",
    "print(\"not use seed first random numbers: \", a)"
   ]
  },
  {
   "cell_type": "code",
   "execution_count": 4,
   "metadata": {},
   "outputs": [
    {
     "name": "stdout",
     "output_type": "stream",
     "text": [
      "not use seed second random numbers:  [0.99538678 0.46131156 0.44576597 0.37780815 0.57233023]\n"
     ]
    }
   ],
   "source": [
    "#not use seed\n",
    "a = random(5)\n",
    "print(\"not use seed second random numbers: \", a)"
   ]
  },
  {
   "cell_type": "markdown",
   "metadata": {},
   "source": [
    "we can see two results are different when not use seed"
   ]
  },
  {
   "cell_type": "code",
   "execution_count": 9,
   "metadata": {},
   "outputs": [
    {
     "name": "stdout",
     "output_type": "stream",
     "text": [
      "use seed first random numbers:  [0.22199317 0.87073231 0.20671916 0.91861091 0.48841119]\n"
     ]
    }
   ],
   "source": [
    "#use seed\n",
    "np.random.seed(5)\n",
    "b = random(5)\n",
    "out = \"use seed first random numbers: \"\n",
    "print(out, b)"
   ]
  },
  {
   "cell_type": "code",
   "execution_count": 10,
   "metadata": {},
   "outputs": [
    {
     "name": "stdout",
     "output_type": "stream",
     "text": [
      "use seed second random numbers:  [0.22199317 0.87073231 0.20671916 0.91861091 0.48841119]\n"
     ]
    }
   ],
   "source": [
    "#use seed\n",
    "np.random.seed(5)\n",
    "b = random(5)\n",
    "print(\"use seed second random numbers: \", b)"
   ]
  },
  {
   "cell_type": "markdown",
   "metadata": {},
   "source": [
    "two results are same"
   ]
  },
  {
   "cell_type": "markdown",
   "metadata": {},
   "source": [
    "## 函数形参"
   ]
  },
  {
   "cell_type": "code",
   "execution_count": 15,
   "metadata": {},
   "outputs": [
    {
     "name": "stdout",
     "output_type": "stream",
     "text": [
      "1 2 3\n"
     ]
    }
   ],
   "source": [
    "def fun(a, b, c):\n",
    "    print(a, b, c)\n",
    "kwargs = {\"a\":1, \"c\":3, \"b\":2}\n",
    "fun(**kwargs)"
   ]
  }
 ],
 "metadata": {
  "kernelspec": {
   "display_name": "Python 3",
   "language": "python",
   "name": "python3"
  },
  "language_info": {
   "codemirror_mode": {
    "name": "ipython",
    "version": 3
   },
   "file_extension": ".py",
   "mimetype": "text/x-python",
   "name": "python",
   "nbconvert_exporter": "python",
   "pygments_lexer": "ipython3",
   "version": "3.6.6"
  },
  "toc": {
   "base_numbering": 1,
   "nav_menu": {
    "height": "30px",
    "width": "252px"
   },
   "number_sections": true,
   "sideBar": true,
   "skip_h1_title": false,
   "title_cell": "Table of Contents",
   "title_sidebar": "Contents",
   "toc_cell": false,
   "toc_position": {},
   "toc_section_display": "block",
   "toc_window_display": true
  }
 },
 "nbformat": 4,
 "nbformat_minor": 2
}
