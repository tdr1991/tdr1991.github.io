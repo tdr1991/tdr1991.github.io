{
 "cells": [
  {
   "cell_type": "markdown",
   "metadata": {},
   "source": [
    "# 生成式对抗网络（GAN）\n",
    "GAN主要是由生成器和判别器组成，生成器产生与真实数据非常近似骗过判别器，而判别器需要辨识真假数据，就是一个相爱相杀过程。\n",
    "优化公式\n",
    "$$min_G max_D V(D,G)=E_{x ～ P_{data}(x)}  [log(D(x))] + E_{z ～ P_{z}(z)}  [log(1-D(G(z)))]$$\n",
    "优化可以分成两步，G和D优化不一定是同步的     \n",
    "固定G，优化D\n",
    "$$ max_D V(D,G)=E_{x ～ P_{data}(x)}  [log(D(x))] + E_{z ～ P_{z}(z)}  [log(1-D(G(z)))] $$\n",
    "固定D，优化G\n",
    "$$ min_G = E_{z ～ P_{z}(z)}  [log(1-D(G(z)))] $$\n",
    "这就是最大最小目标函数\n",
    "在实际实现时，目标函数可能有所不同  \n",
    "优化D时，将最大化变成最小化，即在前面加个“-”号\n",
    "$$ min_D V(D,G)= -(E_{x ～ P_{data}(x)}  [log(D(x))] + E_{z ～ P_{z}(z)}  [log(1-D(G(z)))]) $$\n",
    "为了形式上的统一，G的优化就变成\n",
    "$$ min_G = -E_{z ～ P_{z}(z)}  [log(D(G(z)))] $$\n",
    "\n",
    "# 关于GAN的三个问题\n",
    "* 度量复杂分布之间差异性。我们希望输出分布达到期望分布，那么我们需要找两个分布之间差异的度量方式。\n",
    "* 如何设计生成器。\n",
    "* 连接输入和输出。\n",
    "\n",
    "参考：  \n",
    "<https://mp.weixin.qq.com/s/er-VG1P8iNIcQew2gXZqGw>  \n"
   ]
  }
 ],
 "metadata": {
  "kernelspec": {
   "display_name": "Python 3",
   "language": "python",
   "name": "python3"
  },
  "language_info": {
   "codemirror_mode": {
    "name": "ipython",
    "version": 3
   },
   "file_extension": ".py",
   "mimetype": "text/x-python",
   "name": "python",
   "nbconvert_exporter": "python",
   "pygments_lexer": "ipython3",
   "version": "3.6.1"
  },
  "toc": {
   "colors": {
    "hover_highlight": "#DAA520",
    "navigate_num": "#000000",
    "navigate_text": "#333333",
    "running_highlight": "#FF0000",
    "selected_highlight": "#FFD700",
    "sidebar_border": "#EEEEEE",
    "wrapper_background": "#FFFFFF"
   },
   "moveMenuLeft": true,
   "nav_menu": {
    "height": "11px",
    "width": "252px"
   },
   "navigate_menu": true,
   "number_sections": true,
   "sideBar": true,
   "threshold": 4,
   "toc_cell": false,
   "toc_section_display": "block",
   "toc_window_display": false,
   "widenNotebook": false
  }
 },
 "nbformat": 4,
 "nbformat_minor": 2
}
