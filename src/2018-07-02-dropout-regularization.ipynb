{
 "cells": [
  {
   "cell_type": "code",
   "execution_count": 2,
   "metadata": {},
   "outputs": [],
   "source": [
    "import tensorflow as tf"
   ]
  },
  {
   "cell_type": "code",
   "execution_count": 3,
   "metadata": {},
   "outputs": [
    {
     "name": "stdout",
     "output_type": "stream",
     "text": [
      "未dropout前数据\n",
      "[[1. 1. 1. 1. 1. 1. 1. 1. 1. 1.]\n",
      " [1. 1. 1. 1. 1. 1. 1. 1. 1. 1.]\n",
      " [1. 1. 1. 1. 1. 1. 1. 1. 1. 1.]\n",
      " [1. 1. 1. 1. 1. 1. 1. 1. 1. 1.]\n",
      " [1. 1. 1. 1. 1. 1. 1. 1. 1. 1.]\n",
      " [1. 1. 1. 1. 1. 1. 1. 1. 1. 1.]\n",
      " [1. 1. 1. 1. 1. 1. 1. 1. 1. 1.]\n",
      " [1. 1. 1. 1. 1. 1. 1. 1. 1. 1.]\n",
      " [1. 1. 1. 1. 1. 1. 1. 1. 1. 1.]\n",
      " [1. 1. 1. 1. 1. 1. 1. 1. 1. 1.]]\n",
      "dropout后数据\n",
      "[[0.  0.  0.  0.  2.5 0.  0.  2.5 0.  0. ]\n",
      " [0.  0.  0.  0.  0.  0.  0.  0.  2.5 0. ]\n",
      " [0.  2.5 2.5 0.  0.  0.  0.  2.5 2.5 0. ]\n",
      " [2.5 2.5 0.  0.  2.5 0.  0.  0.  2.5 0. ]\n",
      " [0.  2.5 0.  0.  0.  0.  2.5 0.  2.5 0. ]\n",
      " [0.  0.  2.5 0.  0.  0.  0.  0.  0.  2.5]\n",
      " [0.  2.5 0.  0.  2.5 0.  0.  0.  0.  0. ]\n",
      " [0.  0.  0.  0.  0.  2.5 0.  0.  0.  0. ]\n",
      " [0.  2.5 0.  0.  2.5 0.  0.  0.  0.  0. ]\n",
      " [2.5 2.5 2.5 0.  2.5 2.5 0.  0.  0.  0. ]]\n"
     ]
    }
   ],
   "source": [
    "dropout = tf.placeholder(tf.float32)\n",
    "x = tf.Variable(tf.ones([10, 10]))\n",
    "y = tf.nn.dropout(x, dropout)\n",
    "init = tf.global_variables_initializer()\n",
    "with tf.Session() as sess:\n",
    "    sess.run(init)\n",
    "    print(\"未dropout前数据\")\n",
    "    print(sess.run(x))\n",
    "    print(\"dropout后数据\")\n",
    "    print(sess.run(y, feed_dict={dropout: 0.4}))"
   ]
  },
  {
   "cell_type": "code",
   "execution_count": 11,
   "metadata": {},
   "outputs": [
    {
     "name": "stdout",
     "output_type": "stream",
     "text": [
      "未dropout前数据\n",
      "[[1. 1. 1. 1. 1.]\n",
      " [1. 1. 1. 1. 1.]\n",
      " [1. 1. 1. 1. 1.]\n",
      " [1. 1. 1. 1. 1.]\n",
      " [1. 1. 1. 1. 1.]]\n",
      "dropout后数据\n",
      "[[0.  0.  0.  2.5 2.5]\n",
      " [0.  0.  2.5 0.  2.5]\n",
      " [0.  2.5 0.  0.  2.5]\n",
      " [0.  2.5 0.  0.  2.5]\n",
      " [2.5 2.5 0.  0.  2.5]]\n"
     ]
    }
   ],
   "source": [
    "dropout = tf.placeholder(tf.float32)\n",
    "x = tf.Variable(tf.ones([5, 5]))\n",
    "y = tf.nn.dropout(x, dropout)\n",
    "init = tf.global_variables_initializer()\n",
    "with tf.Session() as sess:\n",
    "    sess.run(init)\n",
    "    print(\"未dropout前数据\")\n",
    "    print(sess.run(x))\n",
    "    print(\"dropout后数据\")\n",
    "    print(sess.run(y, feed_dict={dropout: 0.4}))"
   ]
  },
  {
   "cell_type": "code",
   "execution_count": null,
   "metadata": {
    "collapsed": true
   },
   "outputs": [],
   "source": []
  }
 ],
 "metadata": {
  "kernelspec": {
   "display_name": "Python 3",
   "language": "python",
   "name": "python3"
  },
  "language_info": {
   "codemirror_mode": {
    "name": "ipython",
    "version": 3
   },
   "file_extension": ".py",
   "mimetype": "text/x-python",
   "name": "python",
   "nbconvert_exporter": "python",
   "pygments_lexer": "ipython3",
   "version": "3.6.1"
  },
  "toc": {
   "colors": {
    "hover_highlight": "#DAA520",
    "navigate_num": "#000000",
    "navigate_text": "#333333",
    "running_highlight": "#FF0000",
    "selected_highlight": "#FFD700",
    "sidebar_border": "#EEEEEE",
    "wrapper_background": "#FFFFFF"
   },
   "moveMenuLeft": true,
   "nav_menu": {
    "height": "12px",
    "width": "252px"
   },
   "navigate_menu": true,
   "number_sections": true,
   "sideBar": true,
   "threshold": 4,
   "toc_cell": false,
   "toc_section_display": "block",
   "toc_window_display": false,
   "widenNotebook": false
  }
 },
 "nbformat": 4,
 "nbformat_minor": 2
}
