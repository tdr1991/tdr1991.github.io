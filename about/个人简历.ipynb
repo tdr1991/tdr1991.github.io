{
 "cells": [
  {
   "cell_type": "markdown",
   "metadata": {},
   "source": [
    "---\n",
    "layout: page\n",
    "title: 个人简历\n",
    "---\n",
    "# <center>个人简历</center>\n",
    "\n",
    "## 基本信息\n",
    "\n",
    "汤达荣   \n",
    "Email：tdr1991@outlook.com &nbsp;&nbsp; GitHub：https://github.com/tdr1991 &nbsp;&nbsp; 主页：https://tdr1991.github.io\n",
    "\n",
    "## 教育背景\n",
    "\n",
    "2011.09--2015.07 东华理工大学，信息工程学院，信息工程专业，学士\n",
    "\n",
    "## 工作经历\n",
    "\n",
    "2015.07--2016.08 珠海世纪鼎利科技股份有限公司，C++软件开发工程师  \n",
    "2017.07--2018.05 中国科学院深圳先进技术研究院，生物信息学\n",
    "\n",
    "## 参与项目\n",
    "\n",
    "项目1：地铁、高铁实时补点  \n",
    "完成部分：从百度地图或者高德地图或地铁信息，生成xml文件，然后编写C++接口解析xml。  \n",
    "项目2：解析VS工程文件自动生成各平台下的Makefile文件  \n",
    "完成部分：生成Linux平台下的Makefile文件  \n",
    "项目3：自动编译系统（从服务器更新代码到本地，调用程序实现代码的自动编译）  \n",
    "完成部分：编写脚本，调用Linux和Mac服务器。  \n",
    "项目4：封装MQ编写接口，将ActiveMQ和ZeroMQ进一步封装成C++动态库。（独自完成）  \n",
    "项目5：封装otl编写接口，otl是一个提供各种数据库用C++编写的一个头文件，进行封装成C++动态库。（独自完成）  \n",
    "项目6：解析论文提取参考文献实现自动下载题录，这是一个Python实现的项目。通过pdfminer这个第三方模块把pdf转变成文本，利用正则表达式提取参考文献，再获取每条文献的题目，使用biopython模块提供的访问Entrez数据库的方法，对PubMed数据库进行访问下载相应的题录。（独自完成）  \n",
    "项目7：通过网络提供的hosts文件实现自动修改windows系统的hosts文件。  \n",
    "项目8：通过jekyll静态网页生成器和使用NexT主题搭建个人主页（博客）。  \n",
    "项目9：使用深度学习中的卷积神经网络实现宏基因中16S和ITs的序列分类，平台依赖tensorflow。相关成果已发表于国际会议BIBE2018。\n",
    "\n",
    "## 技能\n",
    "\n",
    "C/C++，python，R；Markdown，jupyter notebook，GitHub；tensorflow，Docker\n",
    "\n",
    "## 研究兴趣\n",
    "\n",
    "对机器学习、深度学习和生物信息学方向有所研究，有志在深度学习领域进一步探索研究，希望把深度学习的技术应用到生物信息领域。\n"
   ]
  }
 ],
 "metadata": {
  "kernelspec": {
   "display_name": "Python 3",
   "language": "python",
   "name": "python3"
  },
  "language_info": {
   "codemirror_mode": {
    "name": "ipython",
    "version": 3
   },
   "file_extension": ".py",
   "mimetype": "text/x-python",
   "name": "python",
   "nbconvert_exporter": "python",
   "pygments_lexer": "ipython3",
   "version": "3.6.1"
  },
  "toc": {
   "colors": {
    "hover_highlight": "#DAA520",
    "navigate_num": "#000000",
    "navigate_text": "#333333",
    "running_highlight": "#FF0000",
    "selected_highlight": "#FFD700",
    "sidebar_border": "#EEEEEE",
    "wrapper_background": "#FFFFFF"
   },
   "moveMenuLeft": true,
   "nav_menu": {
    "height": "12px",
    "width": "252px"
   },
   "navigate_menu": true,
   "number_sections": false,
   "sideBar": true,
   "threshold": 4,
   "toc_cell": false,
   "toc_position": {
    "height": "824px",
    "left": "0px",
    "right": "1066px",
    "top": "107px",
    "width": "212px"
   },
   "toc_section_display": "block",
   "toc_window_display": true,
   "widenNotebook": false
  }
 },
 "nbformat": 4,
 "nbformat_minor": 2
}
